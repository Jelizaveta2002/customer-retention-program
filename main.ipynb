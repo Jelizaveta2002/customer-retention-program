{
 "cells": [
  {
   "cell_type": "code",
   "execution_count": 115,
   "outputs": [],
   "source": [
    "import csv\n",
    "\n",
    "def filter_csv_by_last_word(input_file_path, output_file_path, word_to_check):\n",
    "    \"\"\"\n",
    "    Funktsioon klientide jaotamiseks kahte faili: \"churn.csv\" kliendid, kes on lõpetanud koostöö ettevõttega, ja \"retention.csv\" kliendid, kes jätkuvalt kasutavad ettevõtte teenuseid. Pärast salvestame need andmed lõppfaili.\n",
    "    \"\"\"\n",
    "    with open(input_file_path, mode='r', encoding='utf-8') as infile, open(output_file_path, mode='w', encoding='utf-8', newline='') as outfile:\n",
    "        reader = csv.reader(infile)\n",
    "        writer = csv.writer(outfile)\n",
    "        for row in reader:\n",
    "            if row[-1].strip().lower() == word_to_check.lower():\n",
    "                writer.writerow(row)\n",
    "\n",
    "input_file = 'initial.csv'\n",
    "output_file_churn = 'churn.csv'\n",
    "output_file_retention = 'retention.csv'\n",
    "churn = 'Yes'\n",
    "retention = 'No'\n",
    "\n",
    "filter_csv_by_last_word(input_file, output_file_churn, churn)\n",
    "filter_csv_by_last_word(input_file, output_file_retention, retention)"
   ],
   "metadata": {
    "collapsed": false,
    "ExecuteTime": {
     "end_time": "2024-03-21T21:20:44.831213600Z",
     "start_time": "2024-03-21T21:20:44.779774100Z"
    }
   },
   "id": "c40c87659fcaf3ff"
  },
  {
   "cell_type": "code",
   "execution_count": 116,
   "outputs": [],
   "source": [
    "def count_services_of_one_client(client):\n",
    "    \"\"\"\n",
    "    Arvutame iga kliendi kasutatavate teenuste hulka.\n",
    "    \"\"\"\n",
    "    parts = client.split(',')\n",
    "    services = parts[6:15]\n",
    "    number_of_services = sum(1 for part in services if \"No\" not in part)\n",
    "    return number_of_services\n",
    "\n",
    "def count_partner_dependents_of_one_client(client):\n",
    "    \"\"\"\n",
    "    Arvutame iga kliendi partnerite/ülalpeetavate hulka.\n",
    "    \"\"\"\n",
    "    parts = client.split(',')\n",
    "    partners_or_dependents = parts[3:5]\n",
    "    number_of_partners_or_dependents = sum(1 for part in partners_or_dependents if \"No\" not in part)\n",
    "    return number_of_partners_or_dependents\n",
    "\n",
    "def count_services_and_partner_dependents_total(file):\n",
    "    \"\"\"\n",
    "    Loeme kokku failis olevate klientide kasutatavate teenuste ja partnerite/ülalpeetavate arvu, et leida iga teguri kohta keskmine väärtus. Tagastame mõlema keskmise - teenuste arvu ja partnerite/ülalpeetavate arvu - ühe stringina. Pärast salvestame mõlema faili kohta  andmed lõppfaili.\n",
    "    \"\"\"\n",
    "    total_clients = 0\n",
    "    total_services = 0\n",
    "    total_partners_or_dependents = 0\n",
    "    with open(file, 'r') as file:\n",
    "        for client in file:\n",
    "            total_services += count_services_of_one_client(client)\n",
    "            total_partners_or_dependents += count_partner_dependents_of_one_client(client)\n",
    "            total_clients += 1\n",
    "    \n",
    "    average_number_of_services = round(total_services / total_clients, 1)\n",
    "    average_number_of_partners_or_dependents = round(total_partners_or_dependents / total_clients, 1)\n",
    "    result = 'Keskmine teenuste arv inimese kohta: ' + str(average_number_of_services) + ' ja keskmine partnerite/ülalpeetavate arv: ' + str(average_number_of_partners_or_dependents)\n",
    "    return result\n",
    "\n",
    "churn = 'churn.csv'\n",
    "retention = 'retention.csv'\n",
    "\n",
    "with open('final_file.txt', mode='w', encoding='utf-8', newline='') as file:\n",
    "    writer = csv.writer(file)\n",
    "    writer.writerow(['Säilitatud kliendid: ' + count_services_and_partner_dependents_total(retention)])\n",
    "    writer.writerow(['Lahkunud kliendid: ' + count_services_and_partner_dependents_total(churn)])"
   ],
   "metadata": {
    "collapsed": false,
    "ExecuteTime": {
     "end_time": "2024-03-21T21:20:45.661844Z",
     "start_time": "2024-03-21T21:20:45.614729900Z"
    }
   },
   "id": "5bf00220693fe01"
  },
  {
   "cell_type": "code",
   "execution_count": 117,
   "outputs": [],
   "source": [
    "def count_contract_types(csv_file_path):\n",
    "    \"\"\"\n",
    "    Iga lepingutüübi jaoks arvutame failis olevate klientide protsendi, kes kasutavad antud lepingut. Väljastame informatsiooni stringi kujul. Pärast salvestame mõlema faili kohta  andmed lõppfaili.\n",
    "    \"\"\"\n",
    "    contract_counts = {\"One year\": 0, \"Month-to-month\": 0, \"Two year\": 0}\n",
    "    contract_percents = {}\n",
    "    total_rows = 0\n",
    "\n",
    "    with open(csv_file_path, 'r') as file:\n",
    "        for line in file:\n",
    "            total_rows += 1\n",
    "            parts = line.split(',')\n",
    "            contract_type = parts[15]\n",
    "            if contract_type in contract_counts:\n",
    "                contract_counts[contract_type] += 1\n",
    "    result = ''\n",
    "    for key in contract_counts:\n",
    "        contract_percents[key] = (contract_counts[key] / total_rows) * 100\n",
    "        result = result + key + ': ' + str(round((contract_counts[key] / total_rows) * 100, 1)) + '% '\n",
    "    return result\n",
    "\n",
    "churn = 'churn.csv'\n",
    "retention = 'retention.csv'\n",
    "\n",
    "with open('final_file.txt', mode='a', encoding='utf-8', newline='') as file:\n",
    "    writer = csv.writer(file)\n",
    "    writer.writerow([\"Säilitatud klientide lepingutüüpide protsendid: \" + str(count_contract_types(retention))])\n",
    "    writer.writerow([\"Lahkunud  klientide lepingutüüpide protsendid: \" + str(count_contract_types(churn))])"
   ],
   "metadata": {
    "collapsed": false,
    "ExecuteTime": {
     "end_time": "2024-03-21T21:20:46.430420900Z",
     "start_time": "2024-03-21T21:20:46.414591900Z"
    }
   },
   "id": "c9b3965e1a27b134"
  },
  {
   "cell_type": "code",
   "execution_count": 118,
   "outputs": [],
   "source": [
    "def calculate_average_monthly_charge(file_path):\n",
    "    \"\"\"\n",
    "    Funktsioon arvutab antud failis oleva kliendi keskmise kuumakse. Pärast salvestame mõlema faili kohta  andmed lõppfaili.\n",
    "    \"\"\"\n",
    "    total_sum = 0\n",
    "    line_count = 0\n",
    "    \n",
    "    with open(file_path, mode='r', encoding='utf-8') as file:\n",
    "        reader = csv.reader(file)\n",
    "        for client in reader:\n",
    "            if len(client) > 1:\n",
    "                try:\n",
    "                    number = float(client[-3])\n",
    "                    total_sum += number\n",
    "                    line_count += 1\n",
    "                except ValueError:\n",
    "                    continue\n",
    "    if line_count == 0:\n",
    "        return 0\n",
    "    \n",
    "    return round(total_sum / line_count, 1)\n",
    "\n",
    "churn = 'churn.csv'\n",
    "retention = 'retention.csv'\n",
    "\n",
    "average_churn = calculate_average_monthly_charge(churn)\n",
    "average_retention = calculate_average_monthly_charge(retention)\n",
    "\n",
    "with open('final_file.txt', mode='a', encoding='utf-8', newline='') as file:\n",
    "    writer = csv.writer(file)\n",
    "    writer.writerow([\"Säilitatud klientide keskmine kuumakse: \" + str(average_retention) + '€'])\n",
    "    writer.writerow([\"Lahkunud klientide keskmine kuumakse:: \" + str(average_churn) + '€'])"
   ],
   "metadata": {
    "collapsed": false,
    "ExecuteTime": {
     "end_time": "2024-03-21T21:20:47.258999400Z",
     "start_time": "2024-03-21T21:20:47.212604Z"
    }
   },
   "id": "5eae70cede57f9c4"
  },
  {
   "cell_type": "code",
   "execution_count": 119,
   "outputs": [],
   "source": [
    "def find_potential_churn(input_file_path, output_file_path,):\n",
    "    \"\"\"\n",
    "    Funktsioon analüüsib, kas klient kuulub potentsiaalselt lahkuvate klientide hulka, lähtudes varasemast analüüsist. Kui klient vastab potentsiaalse lahkumise kriteeriumitele, salvestatakse tema andmed faili 'potential.csv'.\n",
    "    \"\"\"\n",
    "    with open(input_file_path, mode='r', encoding='utf-8') as infile, open(output_file_path, mode='w', encoding='utf-8', newline='') as outfile:\n",
    "        reader = csv.reader(infile)\n",
    "        writer = csv.writer(outfile)\n",
    "        for client in reader:\n",
    "            services = client[6:15]\n",
    "            services_num = sum(1 for part in services if \"No\" not in part)\n",
    "            partners_or_dependents = client[3:5]\n",
    "            partner_dependents_num = sum(1 for part in partners_or_dependents if \"No\" not in part)\n",
    "            contract_type = client[15]\n",
    "            monthly_charge = float(client[-3])\n",
    "            if services_num <= 4.1 and partner_dependents_num <= 1 and contract_type == 'Month-to-month' and monthly_charge > 74.4:\n",
    "                writer.writerow(client)\n",
    "\n",
    "\n",
    "retention = 'retention.csv'\n",
    "potential = 'potential.csv'\n",
    "filter(retention, potential)"
   ],
   "metadata": {
    "collapsed": false,
    "ExecuteTime": {
     "end_time": "2024-03-21T21:20:48.029246Z",
     "start_time": "2024-03-21T21:20:47.982248200Z"
    }
   },
   "id": "817cd97c184abd6"
  },
  {
   "cell_type": "code",
   "execution_count": null,
   "outputs": [],
   "source": [],
   "metadata": {
    "collapsed": false
   },
   "id": "2d6663ff483456b7"
  }
 ],
 "metadata": {
  "kernelspec": {
   "display_name": "Python 3",
   "language": "python",
   "name": "python3"
  },
  "language_info": {
   "codemirror_mode": {
    "name": "ipython",
    "version": 2
   },
   "file_extension": ".py",
   "mimetype": "text/x-python",
   "name": "python",
   "nbconvert_exporter": "python",
   "pygments_lexer": "ipython2",
   "version": "2.7.6"
  }
 },
 "nbformat": 4,
 "nbformat_minor": 5
}
